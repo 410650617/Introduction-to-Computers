{
  "nbformat": 4,
  "nbformat_minor": 0,
  "metadata": {
    "colab": {
      "name": "0601.ipynb",
      "provenance": [],
      "authorship_tag": "ABX9TyNaL+rPeS20HFNzg8n36cH8",
      "include_colab_link": true
    },
    "kernelspec": {
      "name": "python3",
      "display_name": "Python 3"
    },
    "language_info": {
      "name": "python"
    }
  },
  "cells": [
    {
      "cell_type": "markdown",
      "metadata": {
        "id": "view-in-github",
        "colab_type": "text"
      },
      "source": [
        "<a href=\"https://colab.research.google.com/github/410650617/Introduction-to-Computers/blob/main/0601.ipynb\" target=\"_parent\"><img src=\"https://colab.research.google.com/assets/colab-badge.svg\" alt=\"Open In Colab\"/></a>"
      ]
    },
    {
      "cell_type": "code",
      "execution_count": 3,
      "metadata": {
        "colab": {
          "base_uri": "https://localhost:8080/"
        },
        "id": "ved5ll1cnWfo",
        "outputId": "5b9196b1-9c0e-40de-c055-0b2373059b09"
      },
      "outputs": [
        {
          "output_type": "stream",
          "name": "stdout",
          "text": [
            "2*1= 2  2*2= 4  2*3= 6  2*4= 8  2*5=10  2*6=12  2*7=14  2*8=16  2*9=18  \n",
            "3*1= 3  3*2= 6  3*3= 9  3*4=12  3*5=15  3*6=18  3*7=21  3*8=24  3*9=27  \n",
            "4*1= 4  4*2= 8  4*3=12  4*4=16  4*5=20  4*6=24  4*7=28  4*8=32  4*9=36  \n",
            "5*1= 5  5*2=10  5*3=15  5*4=20  5*5=25  5*6=30  5*7=35  5*8=40  5*9=45  \n",
            "6*1= 6  6*2=12  6*3=18  6*4=24  6*5=30  6*6=36  6*7=42  6*8=48  6*9=54  \n",
            "7*1= 7  7*2=14  7*3=21  7*4=28  7*5=35  7*6=42  7*7=49  7*8=56  7*9=63  \n",
            "8*1= 8  8*2=16  8*3=24  8*4=32  8*5=40  8*6=48  8*7=56  8*8=64  8*9=72  \n",
            "9*1= 9  9*2=18  9*3=27  9*4=36  9*5=45  9*6=54  9*7=63  9*8=72  9*9=81  \n"
          ]
        }
      ],
      "source": [
        "for i in range(2,10):\n",
        "  for j in range(1,10):\n",
        "    project = i*j\n",
        "    print(\"%d*%d=%2d \"%(i,j,project),end=\" \")\n",
        "  print()"
      ]
    },
    {
      "cell_type": "code",
      "source": [
        "a=int(input('請輸入a的值:'))\n",
        "b=int(input('請輸入b的值:'))\n",
        "\n",
        "maxno = a*b\n",
        "for i in range(1,maxno+1):\n",
        "  if (i%a==0 and i%b==0):\n",
        "    break\n",
        "print(\"%d和%d的最小公倍數=%d\"%(a,b,i))"
      ],
      "metadata": {
        "colab": {
          "base_uri": "https://localhost:8080/"
        },
        "id": "el5C0IrfpURd",
        "outputId": "b2b68ccf-184c-4355-e5d4-434a486dcfe5"
      },
      "execution_count": 4,
      "outputs": [
        {
          "output_type": "stream",
          "name": "stdout",
          "text": [
            "請輸入a的值:5\n",
            "請輸入b的值:4\n",
            "5和4的最小公倍數=20\n"
          ]
        }
      ]
    },
    {
      "cell_type": "code",
      "source": [
        "n=int(input('請輸入一個正整數:'))\n",
        "for i in range(1,n+1):\n",
        "  if i%5==0:\n",
        "    continue\n",
        "  print(i,end=\" \")"
      ],
      "metadata": {
        "colab": {
          "base_uri": "https://localhost:8080/"
        },
        "id": "sRXN_Y3Oq8c2",
        "outputId": "6aa2cde5-d80c-4f1d-d1c7-274caaaab66e"
      },
      "execution_count": 5,
      "outputs": [
        {
          "output_type": "stream",
          "name": "stdout",
          "text": [
            "請輸入一個正整數:25\n",
            "1 2 3 4 6 7 8 9 11 12 13 14 16 17 18 19 21 22 23 24 "
          ]
        }
      ]
    },
    {
      "cell_type": "code",
      "source": [
        "total = n=0\n",
        "while(n < 10):\n",
        "  n += 1\n",
        "  total += n\n",
        "print(total)"
      ],
      "metadata": {
        "colab": {
          "base_uri": "https://localhost:8080/"
        },
        "id": "pdFEv6MPr35M",
        "outputId": "bc963bf6-3592-40ee-e6df-eb19f3bbefc3"
      },
      "execution_count": 6,
      "outputs": [
        {
          "output_type": "stream",
          "name": "stdout",
          "text": [
            "55\n"
          ]
        }
      ]
    },
    {
      "cell_type": "code",
      "source": [
        "total = n=0\n",
        "while n < 10:\n",
        "  n += 1\n",
        "  total += n\n",
        "print(total)"
      ],
      "metadata": {
        "colab": {
          "base_uri": "https://localhost:8080/"
        },
        "id": "iW-azQTUt45g",
        "outputId": "7504739b-a8ee-4ffa-ad14-d9defe2dee37"
      },
      "execution_count": 7,
      "outputs": [
        {
          "output_type": "stream",
          "name": "stdout",
          "text": [
            "55\n"
          ]
        }
      ]
    },
    {
      "cell_type": "code",
      "source": [
        "total = n=0\n",
        "while(n < 10):\n",
        "  total += n\n",
        "print(total)"
      ],
      "metadata": {
        "colab": {
          "base_uri": "https://localhost:8080/",
          "height": 219
        },
        "id": "dTysbGsKvMk7",
        "outputId": "b283d17c-5143-4193-e055-e62d840e4671"
      },
      "execution_count": 8,
      "outputs": [
        {
          "output_type": "error",
          "ename": "KeyboardInterrupt",
          "evalue": "ignored",
          "traceback": [
            "\u001b[0;31m---------------------------------------------------------------------------\u001b[0m",
            "\u001b[0;31mKeyboardInterrupt\u001b[0m                         Traceback (most recent call last)",
            "\u001b[0;32m<ipython-input-8-d266daa2fa06>\u001b[0m in \u001b[0;36m<module>\u001b[0;34m()\u001b[0m\n\u001b[1;32m      1\u001b[0m \u001b[0mtotal\u001b[0m \u001b[0;34m=\u001b[0m \u001b[0mn\u001b[0m\u001b[0;34m=\u001b[0m\u001b[0;36m0\u001b[0m\u001b[0;34m\u001b[0m\u001b[0;34m\u001b[0m\u001b[0m\n\u001b[1;32m      2\u001b[0m \u001b[0;32mwhile\u001b[0m\u001b[0;34m(\u001b[0m\u001b[0mn\u001b[0m \u001b[0;34m<\u001b[0m \u001b[0;36m10\u001b[0m\u001b[0;34m)\u001b[0m\u001b[0;34m:\u001b[0m\u001b[0;34m\u001b[0m\u001b[0;34m\u001b[0m\u001b[0m\n\u001b[0;32m----> 3\u001b[0;31m   \u001b[0mtotal\u001b[0m \u001b[0;34m+=\u001b[0m \u001b[0mn\u001b[0m\u001b[0;34m\u001b[0m\u001b[0;34m\u001b[0m\u001b[0m\n\u001b[0m\u001b[1;32m      4\u001b[0m \u001b[0mprint\u001b[0m\u001b[0;34m(\u001b[0m\u001b[0mtotal\u001b[0m\u001b[0;34m)\u001b[0m\u001b[0;34m\u001b[0m\u001b[0;34m\u001b[0m\u001b[0m\n",
            "\u001b[0;31mKeyboardInterrupt\u001b[0m: "
          ]
        }
      ]
    },
    {
      "cell_type": "code",
      "source": [
        "total = i = 1\n",
        "a=int(input('請輸入正整數a的值:'))\n",
        "while i<=a:\n",
        "  total *= i\n",
        "  i += 1\n",
        "print(\"%d!=%d\"%(a,total))"
      ],
      "metadata": {
        "colab": {
          "base_uri": "https://localhost:8080/"
        },
        "id": "F0MUMLxOvZgd",
        "outputId": "e85322a8-7a03-4b7f-afaa-80442104d2be"
      },
      "execution_count": 2,
      "outputs": [
        {
          "output_type": "stream",
          "name": "stdout",
          "text": [
            "請輸入正整數a的值:100\n",
            "100!=93326215443944152681699238856266700490715968264381621468592963895217599993229915608941463976156518286253697920827223758251185210916864000000000000000000000000\n"
          ]
        }
      ]
    },
    {
      "cell_type": "code",
      "source": [
        "t = 0\n",
        "\n",
        "for x in range(0,51):\n",
        "  if(x%2==0):\n",
        "    t+=x\n",
        "\n",
        "print(\"0-50的偶數和結果是\",t)\n",
        "s = 0                                                    \n",
        "\n",
        "for i in range(51):                                \n",
        "    if(i%2==1):\n",
        "        s+=i                                    \n",
        "\n",
        "print(\"0-50的奇數和結果是\",s)"
      ],
      "metadata": {
        "colab": {
          "base_uri": "https://localhost:8080/"
        },
        "id": "CKGLs17rw_3P",
        "outputId": "efe9562f-f0da-46e8-cf30-6bbfb28c6ac6"
      },
      "execution_count": 9,
      "outputs": [
        {
          "output_type": "stream",
          "name": "stdout",
          "text": [
            "0-50的偶數和結果是 650\n",
            "0-50的奇數和結果是 625\n"
          ]
        }
      ]
    },
    {
      "cell_type": "code",
      "source": [
        "x = int(input(\"請輸入正整數:\"))\n",
        "for i in range(x,0,-1):\n",
        "  print(\"* \"*i)\n",
        "print(\" \")"
      ],
      "metadata": {
        "colab": {
          "base_uri": "https://localhost:8080/"
        },
        "id": "HtHEVfreo6Oy",
        "outputId": "8db5e6f0-f684-47b8-a888-5648b18baa4d"
      },
      "execution_count": 13,
      "outputs": [
        {
          "output_type": "stream",
          "name": "stdout",
          "text": [
            "請輸入正整數:7\n",
            "* * * * * * * \n",
            "* * * * * * \n",
            "* * * * * \n",
            "* * * * \n",
            "* * * \n",
            "* * \n",
            "* \n",
            " \n"
          ]
        }
      ]
    },
    {
      "cell_type": "code",
      "source": [
        "total = 0\n",
        "\n",
        "for x in range(1,101):\n",
        "  if(x%3==0 or x%7==0):\n",
        "    total+=x\n",
        "\n",
        "print(\"數值1-100中,所有是3或7倍數的數之總和=\",total)"
      ],
      "metadata": {
        "colab": {
          "base_uri": "https://localhost:8080/"
        },
        "id": "quddDO_QseqW",
        "outputId": "bdeed641-9a7c-48b3-9fc6-94dd424d2870"
      },
      "execution_count": 16,
      "outputs": [
        {
          "output_type": "stream",
          "name": "stdout",
          "text": [
            "數值1-100中,所有是3或7倍數的數之總和= 2208\n"
          ]
        }
      ]
    },
    {
      "cell_type": "code",
      "source": [
        "i = 1\n",
        "count = 0\n",
        "n = int(input('請輸入正整數:'))\n",
        "for i in range(1, n + 1):\n",
        "  prime = True\n",
        "  for j in range(1, i ):\n",
        "    if i % j == 0:\n",
        "      prime = False\n",
        "      break\n",
        "  if prime :\n",
        "    print(i)"
      ],
      "metadata": {
        "colab": {
          "base_uri": "https://localhost:8080/"
        },
        "id": "v4_SSLpP3zIT",
        "outputId": "5918848f-acc8-47cd-84bd-c228dd9c034a"
      },
      "execution_count": 1,
      "outputs": [
        {
          "output_type": "stream",
          "name": "stdout",
          "text": [
            "請輸入正整數:12\n",
            "1\n"
          ]
        }
      ]
    },
    {
      "cell_type": "code",
      "source": [
        ""
      ],
      "metadata": {
        "id": "oCzJaxuhrS08"
      },
      "execution_count": null,
      "outputs": []
    }
  ]
}