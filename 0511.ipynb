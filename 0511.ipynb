{
  "nbformat": 4,
  "nbformat_minor": 0,
  "metadata": {
    "colab": {
      "name": "0511.ipynb",
      "provenance": [],
      "authorship_tag": "ABX9TyNyarnitxgqFZpmRG9In5zx",
      "include_colab_link": true
    },
    "kernelspec": {
      "name": "python3",
      "display_name": "Python 3"
    },
    "language_info": {
      "name": "python"
    }
  },
  "cells": [
    {
      "cell_type": "markdown",
      "metadata": {
        "id": "view-in-github",
        "colab_type": "text"
      },
      "source": [
        "<a href=\"https://colab.research.google.com/github/410650617/Introduction-to-Computers/blob/main/0511.ipynb\" target=\"_parent\"><img src=\"https://colab.research.google.com/assets/colab-badge.svg\" alt=\"Open In Colab\"/></a>"
      ]
    },
    {
      "cell_type": "code",
      "execution_count": 1,
      "metadata": {
        "colab": {
          "base_uri": "https://localhost:8080/"
        },
        "id": "3N8dW5u2Wopf",
        "outputId": "54b5f7a1-ce77-4d4a-ebbc-f261320c02e2"
      },
      "outputs": [
        {
          "output_type": "stream",
          "name": "stdout",
          "text": [
            "請輸入你的體溫37.5\n",
            "體溫過高!\n"
          ]
        }
      ],
      "source": [
        "temp = float(input(\"請輸入你的體溫\"))\n",
        "if temp >= 37.5:\n",
        "  print(\"體溫過高!\")\n",
        "elif temp >= 37 and temp < 37.4:\n",
        "  print(\"體溫略高!\")\n",
        "elif tamp >= 34 and temp < 36.9:\n",
        "  print(\"體溫正常!\")\n",
        "else:\n",
        "  print(\"體溫異常,請重新量測!\")"
      ]
    },
    {
      "cell_type": "code",
      "source": [
        "money = int(input(\"請輸入購物金額:\"))\n",
        "if (money >= 10000):\n",
        "  if(money >= 100000):\n",
        "    print(\"八折\", money * 0.8, end=\"元\\n\")\n",
        "  elif(money >= 50000):\n",
        "    print(\"八五折\", money * 0.85, end=\"元\\n\")\n",
        "  elif(money >= 30000):\n",
        "    print(\"九折\", money * 0.9, end=\"元\\n\")\n",
        "  else:\n",
        "    print(\"九五折\", money * 0.95, end=\"元\\n\")\n",
        "else:\n",
        "  print(\"沒打折\", money, end=\"元\\n\")"
      ],
      "metadata": {
        "colab": {
          "base_uri": "https://localhost:8080/"
        },
        "id": "x1AB1P-LYiTv",
        "outputId": "3cf0f60d-0a1d-45df-82bc-ffc4452106c1"
      },
      "execution_count": 17,
      "outputs": [
        {
          "output_type": "stream",
          "name": "stdout",
          "text": [
            "請輸入購物金額:100000\n",
            "八折 80000.0元\n"
          ]
        }
      ]
    },
    {
      "cell_type": "code",
      "source": [
        "score = int(input(\"請輸入成績:\"))\n",
        "if score >= 90:\n",
        "  print(\"A\")\n",
        "elif score >= 80 and score < 89:\n",
        "  print(\"B\")\n",
        "elif score >= 70 and score < 79:\n",
        "  print(\"C\")\n",
        "elif score >= 60 and score < 69:\n",
        "  print(\"D\")\n",
        "else: \n",
        "  print(\"E\")\n"
      ],
      "metadata": {
        "colab": {
          "base_uri": "https://localhost:8080/"
        },
        "id": "udOyMxShbe_N",
        "outputId": "b41cf66f-391c-4120-ae4b-59cdf134f1f7"
      },
      "execution_count": 5,
      "outputs": [
        {
          "output_type": "stream",
          "name": "stdout",
          "text": [
            "請輸入成績:50\n",
            "E\n"
          ]
        }
      ]
    },
    {
      "cell_type": "code",
      "source": [
        "season = int(input(\"請輸入月份:\"))\n",
        "if season == 3 or season == 4 or season == 5:\n",
        "  print(season,\"月是春天!\")\n",
        "elif season == 6 or season == 7 or season == 8:\n",
        "  print(season,\"月是夏天!\")\n",
        "elif season == 9 or season == 10 or season == 11:\n",
        "  print(season,\"月是秋天!\")\n",
        "elif season == 12 or season == 1 or season == 2:\n",
        "  print(season,\"月是冬天!\")\n",
        "else:\n",
        "  print(\"月份不在範圍內!\")"
      ],
      "metadata": {
        "colab": {
          "base_uri": "https://localhost:8080/"
        },
        "id": "1ryp8-qxCX2E",
        "outputId": "13e36819-b840-484b-fad7-90c86f9a1fe3"
      },
      "execution_count": 15,
      "outputs": [
        {
          "output_type": "stream",
          "name": "stdout",
          "text": [
            "請輸入月份:13\n",
            "月份不在範圍內!\n"
          ]
        }
      ]
    },
    {
      "cell_type": "code",
      "source": [
        "a = int(input(\"請輸入你的收入:\"))\n",
        "if(a >= 2000000):\n",
        "    print(\"付稅金額:\", a * 0.3, end=\"元\\n\")\n",
        "elif(a >= 1000000):\n",
        "    print(\"付稅金額:\", a * 0.21, end=\"元\\n\")\n",
        "elif(a >= 600000):\n",
        "    print(\"付稅金額:\", a * 0.13, end=\"元\\n\")\n",
        "elif(a >= 300000):\n",
        "    print(\"付稅金額:\", a * 0.06, end=\"元\\n\")\n",
        "else:\n",
        "    print(\"付稅金額:\", 0 , end=\"元\\n\")"
      ],
      "metadata": {
        "colab": {
          "base_uri": "https://localhost:8080/"
        },
        "id": "6WR_JGImEdyc",
        "outputId": "72caebb8-54ac-419e-c348-0a062b88688d"
      },
      "execution_count": 19,
      "outputs": [
        {
          "output_type": "stream",
          "name": "stdout",
          "text": [
            "請輸入你的收入:100000\n",
            "付稅金額: 0元\n"
          ]
        }
      ]
    }
  ]
}